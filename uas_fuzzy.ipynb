{
 "cells": [
  {
   "cell_type": "code",
   "execution_count": 37,
   "id": "ea0aba64-7b6f-4be6-b36a-a0d53538baf5",
   "metadata": {},
   "outputs": [],
   "source": [
    "class Fuzzy:\n",
    "    def __init__(self):  # Perbaikan _init_ menjadi __init__\n",
    "        self.max = 0\n",
    "        self.min = 0\n",
    "\n",
    "    def down(self, x):\n",
    "        return max(0, (self.max - x) / (self.max - self.min))\n",
    "\n",
    "    def up(self, x):\n",
    "        return max(0, (x - self.min) / (self.max - self.min))\n",
    "\n",
    "    def rev_down(self, value):\n",
    "        return self.max - value * (self.max - self.min)\n",
    "\n",
    "    def rev_up(self, value):\n",
    "        return value * (self.max - self.min) + self.min"
   ]
  },
  {
   "cell_type": "code",
   "execution_count": 38,
   "id": "cf075af4-5f60-4fcc-b453-bebcadbdd19f",
   "metadata": {},
   "outputs": [],
   "source": [
    "class Demand(Fuzzy):\n",
    "    def __init__(self):  # Perbaikan _init_ menjadi __init__\n",
    "        self.min = 1000\n",
    "        self.max = 5000\n",
    "\n",
    "    def turun(self, x):\n",
    "        if x < self.min:\n",
    "            return 1\n",
    "        if x > self.max:\n",
    "            return 0\n",
    "        return self.down(x)\n",
    "\n",
    "    def tetap(self, x):\n",
    "        mid = (self.min + self.max) / 2\n",
    "        if x < self.min or x > self.max:\n",
    "            return 0\n",
    "        if x == mid:\n",
    "            return 1\n",
    "        return 1 - abs(x - mid) / (mid - self.min)\n",
    "\n",
    "    def naik(self, x):\n",
    "        if x < self.min:\n",
    "            return 0\n",
    "        if x > self.max:\n",
    "            return 1\n",
    "        return self.up(x)"
   ]
  },
  {
   "cell_type": "code",
   "execution_count": 39,
   "id": "40c5b6e7-4d58-4ac9-923e-0616d79bfd24",
   "metadata": {},
   "outputs": [],
   "source": [
    "class Stock(Fuzzy):\n",
    "    def __init__(self):  # Perbaikan _init_ menjadi __init__\n",
    "        self.min = 100\n",
    "        self.max = 1000\n",
    "\n",
    "    def sedikit(self, x):\n",
    "        if x < self.min:\n",
    "            return 1\n",
    "        if x > self.max:\n",
    "            return 0\n",
    "        return self.down(x)\n",
    "\n",
    "    def sedang(self, x):\n",
    "        mid = (self.min + self.max) / 2\n",
    "        if x < self.min or x > self.max:\n",
    "            return 0\n",
    "        if x == mid:\n",
    "            return 1\n",
    "        return 1 - abs(x - mid) / (mid - self.min)\n",
    "\n",
    "    def banyak(self, x):\n",
    "        if x < self.min:\n",
    "            return 0\n",
    "        if x > self.max:\n",
    "            return 1\n",
    "        return self.up(x)"
   ]
  },
  {
   "cell_type": "code",
   "execution_count": 40,
   "id": "8f7909ba-4694-41cd-a660-0f62728099ce",
   "metadata": {},
   "outputs": [],
   "source": [
    "class Production(Fuzzy):\n",
    "    def __init__(self):  # Perbaikan _init_ menjadi __init__\n",
    "        self.min = 2000\n",
    "        self.max = 8000\n",
    "\n",
    "    def berkurang(self, fuzzy_value):\n",
    "        return self.rev_down(fuzzy_value)\n",
    "\n",
    "    def bertambah(self, fuzzy_value):\n",
    "        return self.rev_up(fuzzy_value)"
   ]
  },
  {
   "cell_type": "code",
   "execution_count": 41,
   "id": "52eb6aeb-e627-4293-b032-d749330fcba4",
   "metadata": {},
   "outputs": [],
   "source": [
    "# Rule map sesuai dengan aturan\n",
    "rule_map = {\n",
    "    (\"turun\", \"sedikit\"): \"bertambah\",\n",
    "    (\"turun\", \"sedang\"): \"berkurang\",\n",
    "    (\"turun\", \"banyak\"): \"berkurang\",\n",
    "    (\"tetap\", \"sedikit\"): \"bertambah\",\n",
    "    (\"tetap\", \"sedang\"): \"berkurang\",\n",
    "    (\"tetap\", \"banyak\"): \"berkurang\",\n",
    "    (\"naik\", \"sedikit\"): \"bertambah\",\n",
    "    (\"naik\", \"sedang\"): \"bertambah\",\n",
    "    (\"naik\", \"banyak\"): \"berkurang\",\n",
    "}"
   ]
  },
  {
   "cell_type": "code",
   "execution_count": 42,
   "id": "8b245465-48eb-4c6f-9dfc-5b41cdd876db",
   "metadata": {},
   "outputs": [],
   "source": [
    "def fuzzy_production_inference(x_demand, x_stock):\n",
    "    fuzzy_real = 0.0  # Inisialisasi dengan float\n",
    "    fuzzy = 0.0  # Inisialisasi dengan float\n",
    "\n",
    "    # Buat satu instance dari masing-masing kelas\n",
    "    demand = Demand()\n",
    "    stock = Stock()\n",
    "    prod = Production()\n",
    "\n",
    "    for k, v in rule_map.items():\n",
    "        # Hitung nilai fuzzy untuk demand dan stock\n",
    "        demand_value = getattr(demand, k[0])(x_demand)\n",
    "        stock_value = getattr(stock, k[1])(x_stock)\n",
    "\n",
    "        # Agregasi dengan metode minimum\n",
    "        prod_value = min(demand_value, stock_value)\n",
    "\n",
    "        # Defuzzifikasi\n",
    "        x_prod = getattr(prod, v)(prod_value)\n",
    "\n",
    "        # Hitung centroid\n",
    "        fuzzy_real += prod_value * x_prod\n",
    "        fuzzy += prod_value\n",
    "\n",
    "    # Hitung hasil akhir\n",
    "    result = int(fuzzy_real / fuzzy) if fuzzy != 0 else 0\n",
    "    print(f\"\\nHasil Defuzzifikasi (Centroid): {result}\")\n",
    "    return result"
   ]
  },
  {
   "cell_type": "code",
   "execution_count": 49,
   "id": "d4aca539-ec0b-4bc2-8a76-597d87860a49",
   "metadata": {},
   "outputs": [
    {
     "name": "stdout",
     "output_type": "stream",
     "text": [
      "\n",
      "Hasil Defuzzifikasi (Centroid): 5734\n",
      "\n",
      "Produksi yang disarankan: 5734\n"
     ]
    }
   ],
   "source": [
    "# Contoh penggunaan\n",
    "x_demand = 3500\n",
    "x_stock = 300\n",
    "result = fuzzy_production_inference(x_demand, x_stock)\n",
    "print(f\"\\nProduksi yang disarankan: {result}\")"
   ]
  },
  {
   "cell_type": "code",
   "execution_count": null,
   "id": "d5bf9d46-b4cb-478f-88bd-9abaf6088306",
   "metadata": {},
   "outputs": [],
   "source": []
  }
 ],
 "metadata": {
  "kernelspec": {
   "display_name": "Python 3 (ipykernel)",
   "language": "python",
   "name": "python3"
  },
  "language_info": {
   "codemirror_mode": {
    "name": "ipython",
    "version": 3
   },
   "file_extension": ".py",
   "mimetype": "text/x-python",
   "name": "python",
   "nbconvert_exporter": "python",
   "pygments_lexer": "ipython3",
   "version": "3.12.6"
  }
 },
 "nbformat": 4,
 "nbformat_minor": 5
}
